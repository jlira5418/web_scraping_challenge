{
 "cells": [
  {
   "cell_type": "code",
   "execution_count": 43,
   "id": "dfda40a3",
   "metadata": {},
   "outputs": [],
   "source": [
    "import pandas as pd\n",
    "from bs4 import BeautifulSoup as soup \n",
    "from splinter import Browser\n",
    "from webdriver_manager.chrome import ChromeDriverManager\n"
   ]
  },
  {
   "cell_type": "code",
   "execution_count": 44,
   "id": "66bc2d3e",
   "metadata": {},
   "outputs": [],
   "source": [
    "#!pip install splinter"
   ]
  },
  {
   "cell_type": "code",
   "execution_count": 45,
   "id": "99f73024",
   "metadata": {},
   "outputs": [
    {
     "name": "stderr",
     "output_type": "stream",
     "text": [
      "\n",
      "\n",
      "====== WebDriver manager ======\n",
      "Current google-chrome version is 96.0.4664\n",
      "Get LATEST chromedriver version for 96.0.4664 google-chrome\n",
      "Driver [C:\\Users\\jlira\\.wdm\\drivers\\chromedriver\\win32\\96.0.4664.45\\chromedriver.exe] found in cache\n"
     ]
    }
   ],
   "source": [
    "# Set up Splinter\n",
    "executable_path = {'executable_path': ChromeDriverManager().install()}\n",
    "browser = Browser('chrome', **executable_path, headless=False)\n"
   ]
  },
  {
   "cell_type": "code",
   "execution_count": 46,
   "id": "29e5ae81",
   "metadata": {},
   "outputs": [],
   "source": [
    "url = 'https://redplanetscience.com/'\n",
    "browser.visit(url)"
   ]
  },
  {
   "cell_type": "code",
   "execution_count": 47,
   "id": "d6397cc1",
   "metadata": {},
   "outputs": [],
   "source": [
    "html = browser.html\n",
    "#print (html)\n",
    "red_planet_soup =soup(html,\"html.parser\") \n",
    "#print (red_planet_soup)"
   ]
  },
  {
   "cell_type": "code",
   "execution_count": 48,
   "id": "bb1b69d0",
   "metadata": {},
   "outputs": [
    {
     "name": "stdout",
     "output_type": "stream",
     "text": [
      "<div class=\"list_text\">\n",
      "<div class=\"list_date\">December 12, 2021</div>\n",
      "<div class=\"content_title\">NASA's Mars Perseverance Rover Gets Its Sample Handling System</div>\n",
      "<div class=\"article_teaser_body\">The system will be collecting and storing Martian rock and soil. Its installation marks another milestone in the march toward the July launch period.</div>\n",
      "</div>\n"
     ]
    }
   ],
   "source": [
    "newselement = red_planet_soup.select_one(\"div.list_text\")\n",
    "print  (newselement)"
   ]
  },
  {
   "cell_type": "code",
   "execution_count": 49,
   "id": "8f561d22",
   "metadata": {},
   "outputs": [
    {
     "name": "stdout",
     "output_type": "stream",
     "text": [
      "NASA's Mars Perseverance Rover Gets Its Sample Handling System\n"
     ]
    }
   ],
   "source": [
    "newstitle  = newselement.find(\"div\", class_= \"content_title\").get_text()\n",
    "print (newstitle)"
   ]
  },
  {
   "cell_type": "code",
   "execution_count": 50,
   "id": "b7037b90",
   "metadata": {},
   "outputs": [
    {
     "name": "stdout",
     "output_type": "stream",
     "text": [
      "The system will be collecting and storing Martian rock and soil. Its installation marks another milestone in the march toward the July launch period.\n"
     ]
    }
   ],
   "source": [
    "newspara = newselement.find(\"div\", class_= \"article_teaser_body\").get_text()\n",
    "print ( newspara)"
   ]
  },
  {
   "cell_type": "code",
   "execution_count": 51,
   "id": "304a1c4d",
   "metadata": {},
   "outputs": [
    {
     "name": "stdout",
     "output_type": "stream",
     "text": [
      "December 12, 2021\n"
     ]
    }
   ],
   "source": [
    "newsdate = newselement.find(\"div\", class_= \"list_date\").get_text()\n",
    "print (newsdate)"
   ]
  },
  {
   "cell_type": "code",
   "execution_count": 52,
   "id": "a72d9393",
   "metadata": {},
   "outputs": [],
   "source": [
    "url = 'https://spaceimages-mars.com/'\n",
    "browser.visit(url)"
   ]
  },
  {
   "cell_type": "code",
   "execution_count": 54,
   "id": "10d8cfbd",
   "metadata": {},
   "outputs": [],
   "source": [
    "html = browser.html\n",
    "#print (html)\n",
    "space_image_soup =soup(html,\"html.parser\") \n",
    "#print (space_image_soup)"
   ]
  },
  {
   "cell_type": "code",
   "execution_count": 58,
   "id": "062243e9",
   "metadata": {},
   "outputs": [
    {
     "name": "stdout",
     "output_type": "stream",
     "text": [
      "image/featured/mars3.jpg\n"
     ]
    }
   ],
   "source": [
    "image_element = space_image_soup.select_one(\"img.headerimage.fade-in\")\n",
    "print(image_element[\"src\"])"
   ]
  },
  {
   "cell_type": "code",
   "execution_count": 59,
   "id": "29a4fa85",
   "metadata": {},
   "outputs": [
    {
     "data": {
      "text/plain": [
       "'https://spaceimages-mars.com/image/featured/mars3.jpg'"
      ]
     },
     "execution_count": 59,
     "metadata": {},
     "output_type": "execute_result"
    }
   ],
   "source": [
    "featured_image_url = url + image_element[\"src\"]\n",
    "featured_image_url"
   ]
  },
  {
   "cell_type": "code",
   "execution_count": null,
   "id": "32209536",
   "metadata": {},
   "outputs": [],
   "source": [
    "browser.quit()"
   ]
  }
 ],
 "metadata": {
  "kernelspec": {
   "display_name": "Python 3",
   "language": "python",
   "name": "python3"
  },
  "language_info": {
   "codemirror_mode": {
    "name": "ipython",
    "version": 3
   },
   "file_extension": ".py",
   "mimetype": "text/x-python",
   "name": "python",
   "nbconvert_exporter": "python",
   "pygments_lexer": "ipython3",
   "version": "3.8.8"
  }
 },
 "nbformat": 4,
 "nbformat_minor": 5
}
