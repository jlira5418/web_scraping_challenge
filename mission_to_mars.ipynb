{
 "cells": [
  {
   "cell_type": "code",
   "execution_count": 23,
   "id": "dfda40a3",
   "metadata": {},
   "outputs": [],
   "source": [
    "import pandas as pd\n",
    "from bs4 import BeautifulSoup as soup \n",
    "from splinter import Browser\n",
    "from webdriver_manager.chrome import ChromeDriverManager\n"
   ]
  },
  {
   "cell_type": "code",
   "execution_count": 17,
   "id": "66bc2d3e",
   "metadata": {},
   "outputs": [],
   "source": [
    "#!pip install splinter"
   ]
  },
  {
   "cell_type": "code",
   "execution_count": 24,
   "id": "99f73024",
   "metadata": {},
   "outputs": [
    {
     "name": "stderr",
     "output_type": "stream",
     "text": [
      "\n",
      "\n",
      "====== WebDriver manager ======\n",
      "Current google-chrome version is 96.0.4664\n",
      "Get LATEST chromedriver version for 96.0.4664 google-chrome\n",
      "Driver [C:\\Users\\jlira\\.wdm\\drivers\\chromedriver\\win32\\96.0.4664.45\\chromedriver.exe] found in cache\n"
     ]
    }
   ],
   "source": [
    "# Set up Splinter\n",
    "executable_path = {'executable_path': ChromeDriverManager().install()}\n",
    "browser = Browser('chrome', **executable_path, headless=False)\n"
   ]
  },
  {
   "cell_type": "code",
   "execution_count": 19,
   "id": "29e5ae81",
   "metadata": {},
   "outputs": [],
   "source": [
    "url = 'https://redplanetscience.com/'\n",
    "browser.visit(url)"
   ]
  },
  {
   "cell_type": "code",
   "execution_count": 20,
   "id": "d6397cc1",
   "metadata": {},
   "outputs": [],
   "source": [
    "html = browser.html\n",
    "#print (html)\n",
    "red_planet_soup =soup(html,\"html.parser\") \n",
    "#print (red_planet_soup)"
   ]
  },
  {
   "cell_type": "code",
   "execution_count": 21,
   "id": "bb1b69d0",
   "metadata": {},
   "outputs": [
    {
     "name": "stdout",
     "output_type": "stream",
     "text": [
      "<div class=\"list_text\">\n",
      "<div class=\"list_date\">December 14, 2021</div>\n",
      "<div class=\"content_title\">NASA's Perseverance Rover Will Carry First Spacesuit Materials to Mars</div>\n",
      "<div class=\"article_teaser_body\">In a Q&amp;A, spacesuit designer Amy Ross explains how five samples, including a piece of helmet visor, will be tested aboard the rover, which is targeting a July 30 launch. </div>\n",
      "</div>\n"
     ]
    }
   ],
   "source": [
    "newselement = red_planet_soup.select_one(\"div.list_text\")\n",
    "print  (newselement)"
   ]
  },
  {
   "cell_type": "code",
   "execution_count": 22,
   "id": "8f561d22",
   "metadata": {},
   "outputs": [
    {
     "name": "stdout",
     "output_type": "stream",
     "text": [
      "NASA's Perseverance Rover Will Carry First Spacesuit Materials to Mars\n"
     ]
    }
   ],
   "source": [
    "newstitle  = newselement.find(\"div\", class_= \"content_title\").get_text()\n",
    "print (newstitle)"
   ]
  },
  {
   "cell_type": "code",
   "execution_count": 23,
   "id": "b7037b90",
   "metadata": {},
   "outputs": [
    {
     "name": "stdout",
     "output_type": "stream",
     "text": [
      "In a Q&A, spacesuit designer Amy Ross explains how five samples, including a piece of helmet visor, will be tested aboard the rover, which is targeting a July 30 launch. \n"
     ]
    }
   ],
   "source": [
    "newspara = newselement.find(\"div\", class_= \"article_teaser_body\").get_text()\n",
    "print ( newspara)"
   ]
  },
  {
   "cell_type": "code",
   "execution_count": 24,
   "id": "304a1c4d",
   "metadata": {},
   "outputs": [
    {
     "name": "stdout",
     "output_type": "stream",
     "text": [
      "December 14, 2021\n"
     ]
    }
   ],
   "source": [
    "newsdate = newselement.find(\"div\", class_= \"list_date\").get_text()\n",
    "print (newsdate)"
   ]
  },
  {
   "cell_type": "code",
   "execution_count": 25,
   "id": "a72d9393",
   "metadata": {},
   "outputs": [],
   "source": [
    "url = 'https://spaceimages-mars.com/'\n",
    "browser.visit(url)"
   ]
  },
  {
   "cell_type": "code",
   "execution_count": 26,
   "id": "10d8cfbd",
   "metadata": {},
   "outputs": [],
   "source": [
    "html = browser.html\n",
    "#print (html)\n",
    "space_image_soup =soup(html,\"html.parser\") \n",
    "#print (space_image_soup)"
   ]
  },
  {
   "cell_type": "code",
   "execution_count": 27,
   "id": "062243e9",
   "metadata": {},
   "outputs": [
    {
     "name": "stdout",
     "output_type": "stream",
     "text": [
      "image/featured/mars1.jpg\n"
     ]
    }
   ],
   "source": [
    "image_element = space_image_soup.select_one(\"img.headerimage.fade-in\")\n",
    "print(image_element[\"src\"])"
   ]
  },
  {
   "cell_type": "code",
   "execution_count": 28,
   "id": "29a4fa85",
   "metadata": {},
   "outputs": [
    {
     "data": {
      "text/plain": [
       "'https://spaceimages-mars.com/image/featured/mars1.jpg'"
      ]
     },
     "execution_count": 28,
     "metadata": {},
     "output_type": "execute_result"
    }
   ],
   "source": [
    "featured_image_url = url + image_element[\"src\"]\n",
    "featured_image_url"
   ]
  },
  {
   "cell_type": "code",
   "execution_count": 43,
   "id": "09abfbe4",
   "metadata": {},
   "outputs": [
    {
     "data": {
      "text/plain": [
       "[                         0                1                2\n",
       " 0  Mars - Earth Comparison             Mars            Earth\n",
       " 1                Diameter:         6,779 km        12,742 km\n",
       " 2                    Mass:  6.39 × 10^23 kg  5.97 × 10^24 kg\n",
       " 3                   Moons:                2                1\n",
       " 4       Distance from Sun:   227,943,824 km   149,598,262 km\n",
       " 5          Length of Year:   687 Earth days      365.24 days\n",
       " 6             Temperature:     -87 to -5 °C      -88 to 58°C,\n",
       "                       0                              1\n",
       " 0  Equatorial Diameter:                       6,792 km\n",
       " 1       Polar Diameter:                       6,752 km\n",
       " 2                 Mass:  6.39 × 10^23 kg (0.11 Earths)\n",
       " 3                Moons:          2 ( Phobos & Deimos )\n",
       " 4       Orbit Distance:       227,943,824 km (1.38 AU)\n",
       " 5         Orbit Period:           687 days (1.9 years)\n",
       " 6  Surface Temperature:                   -87 to -5 °C\n",
       " 7         First Record:              2nd millennium BC\n",
       " 8          Recorded By:           Egyptian astronomers]"
      ]
     },
     "execution_count": 43,
     "metadata": {},
     "output_type": "execute_result"
    }
   ],
   "source": [
    "url = 'https://galaxyfacts-mars.com/'\n",
    "tables = pd.read_html(url)\n",
    "tables"
   ]
  },
  {
   "cell_type": "code",
   "execution_count": 47,
   "id": "00eea399",
   "metadata": {
    "scrolled": true
   },
   "outputs": [
    {
     "data": {
      "text/html": [
       "<div>\n",
       "<style scoped>\n",
       "    .dataframe tbody tr th:only-of-type {\n",
       "        vertical-align: middle;\n",
       "    }\n",
       "\n",
       "    .dataframe tbody tr th {\n",
       "        vertical-align: top;\n",
       "    }\n",
       "\n",
       "    .dataframe thead th {\n",
       "        text-align: right;\n",
       "    }\n",
       "</style>\n",
       "<table border=\"1\" class=\"dataframe\">\n",
       "  <thead>\n",
       "    <tr style=\"text-align: right;\">\n",
       "      <th></th>\n",
       "      <th>Mars - Earth Comparison</th>\n",
       "      <th>Mars</th>\n",
       "      <th>Earth</th>\n",
       "    </tr>\n",
       "  </thead>\n",
       "  <tbody>\n",
       "    <tr>\n",
       "      <th>1</th>\n",
       "      <td>Diameter:</td>\n",
       "      <td>6,779 km</td>\n",
       "      <td>12,742 km</td>\n",
       "    </tr>\n",
       "    <tr>\n",
       "      <th>2</th>\n",
       "      <td>Mass:</td>\n",
       "      <td>6.39 × 10^23 kg</td>\n",
       "      <td>5.97 × 10^24 kg</td>\n",
       "    </tr>\n",
       "    <tr>\n",
       "      <th>3</th>\n",
       "      <td>Moons:</td>\n",
       "      <td>2</td>\n",
       "      <td>1</td>\n",
       "    </tr>\n",
       "    <tr>\n",
       "      <th>4</th>\n",
       "      <td>Distance from Sun:</td>\n",
       "      <td>227,943,824 km</td>\n",
       "      <td>149,598,262 km</td>\n",
       "    </tr>\n",
       "    <tr>\n",
       "      <th>5</th>\n",
       "      <td>Length of Year:</td>\n",
       "      <td>687 Earth days</td>\n",
       "      <td>365.24 days</td>\n",
       "    </tr>\n",
       "    <tr>\n",
       "      <th>6</th>\n",
       "      <td>Temperature:</td>\n",
       "      <td>-87 to -5 °C</td>\n",
       "      <td>-88 to 58°C</td>\n",
       "    </tr>\n",
       "  </tbody>\n",
       "</table>\n",
       "</div>"
      ],
      "text/plain": [
       "0 Mars - Earth Comparison             Mars            Earth\n",
       "1               Diameter:         6,779 km        12,742 km\n",
       "2                   Mass:  6.39 × 10^23 kg  5.97 × 10^24 kg\n",
       "3                  Moons:                2                1\n",
       "4      Distance from Sun:   227,943,824 km   149,598,262 km\n",
       "5         Length of Year:   687 Earth days      365.24 days\n",
       "6            Temperature:     -87 to -5 °C      -88 to 58°C"
      ]
     },
     "execution_count": 47,
     "metadata": {},
     "output_type": "execute_result"
    }
   ],
   "source": [
    "df_Mars_facts = tables[0]\n",
    "df_Mars_facts.columns =df_Mars_facts.iloc[0]\n",
    "df_Mars_facts = df_Mars_facts.drop([0])\n",
    "#df_Mars_facts.set_index(0, inplace = True)\n",
    "df_Mars_facts"
   ]
  },
  {
   "cell_type": "code",
   "execution_count": 48,
   "id": "baa900dc",
   "metadata": {},
   "outputs": [
    {
     "data": {
      "text/plain": [
       "'<table border=\"1\" class=\"dataframe\">\\n  <thead>\\n    <tr style=\"text-align: right;\">\\n      <th></th>\\n      <th>Mars - Earth Comparison</th>\\n      <th>Mars</th>\\n      <th>Earth</th>\\n    </tr>\\n  </thead>\\n  <tbody>\\n    <tr>\\n      <th>1</th>\\n      <td>Diameter:</td>\\n      <td>6,779 km</td>\\n      <td>12,742 km</td>\\n    </tr>\\n    <tr>\\n      <th>2</th>\\n      <td>Mass:</td>\\n      <td>6.39 × 10^23 kg</td>\\n      <td>5.97 × 10^24 kg</td>\\n    </tr>\\n    <tr>\\n      <th>3</th>\\n      <td>Moons:</td>\\n      <td>2</td>\\n      <td>1</td>\\n    </tr>\\n    <tr>\\n      <th>4</th>\\n      <td>Distance from Sun:</td>\\n      <td>227,943,824 km</td>\\n      <td>149,598,262 km</td>\\n    </tr>\\n    <tr>\\n      <th>5</th>\\n      <td>Length of Year:</td>\\n      <td>687 Earth days</td>\\n      <td>365.24 days</td>\\n    </tr>\\n    <tr>\\n      <th>6</th>\\n      <td>Temperature:</td>\\n      <td>-87 to -5 °C</td>\\n      <td>-88 to 58°C</td>\\n    </tr>\\n  </tbody>\\n</table>'"
      ]
     },
     "execution_count": 48,
     "metadata": {},
     "output_type": "execute_result"
    }
   ],
   "source": [
    "html_Mars_facts = df_Mars_facts.to_html()\n",
    "html_Mars_facts\n"
   ]
  },
  {
   "cell_type": "code",
   "execution_count": 25,
   "id": "879a6d3d",
   "metadata": {},
   "outputs": [],
   "source": [
    "url = 'https://marshemispheres.com/'\n",
    "browser.visit(url)"
   ]
  },
  {
   "cell_type": "code",
   "execution_count": 28,
   "id": "c4662bbc",
   "metadata": {},
   "outputs": [
    {
     "name": "stdout",
     "output_type": "stream",
     "text": [
      "{'title': 'Cerberus Hemisphere Enhanced', 'url': 'https://marshemispheres.com/images/full.jpg'}\n",
      "{'title': 'Schiaparelli Hemisphere Enhanced', 'url': 'https://marshemispheres.com/images/schiaparelli_enhanced-full.jpg'}\n",
      "{'title': 'Syrtis Major Hemisphere Enhanced', 'url': 'https://marshemispheres.com/images/syrtis_major_enhanced-full.jpg'}\n",
      "{'title': 'Valles Marineris Hemisphere Enhanced', 'url': 'https://marshemispheres.com/images/valles_marineris_enhanced-full.jpg'}\n"
     ]
    }
   ],
   "source": [
    "#print (browser.html)\n",
    "links = browser.find_by_css(\"a.product-item img\")\n",
    "#print (links)\n",
    "number_of_links = range(len(links))\n",
    "mars_hemispheres = []\n",
    "\n",
    "\n",
    "for index in number_of_links:\n",
    "    hemispheres = {}\n",
    "    browser.find_by_css(\"a.product-item img\")[index].click()\n",
    "    #link.click()\n",
    "    title_text = browser.find_by_css(\"h2.title\").text\n",
    "    mars_image = browser.links.find_by_text(\"Sample\").first[\"href\"]\n",
    "    hemispheres[\"title\"] = title_text\n",
    "    hemispheres[\"url\"] = mars_image\n",
    "    mars_hemispheres.append(hemispheres)\n",
    "    #print (title_text, mars_image)\n",
    "    #print(\"\")\n",
    "    browser.back()\n",
    "    \n",
    "for item in mars_hemispheres:\n",
    "    print (item)\n",
    "    \n",
    "#print (mars_hemispheres)\n"
   ]
  },
  {
   "cell_type": "code",
   "execution_count": null,
   "id": "3f1f9c61",
   "metadata": {},
   "outputs": [],
   "source": [
    "https://marshemispheres.com/images/f5e372a36edfa389625da6d0cc25d905_cerberus_enhanced.tif_full.jpg"
   ]
  },
  {
   "cell_type": "code",
   "execution_count": null,
   "id": "15925713",
   "metadata": {},
   "outputs": [],
   "source": [
    "html = browser.html\n",
    "#print (html)\n",
    "mars_hemispheres_image_soup =soup(html,\"html.parser\") \n",
    "#print (space_image_soup)"
   ]
  },
  {
   "cell_type": "code",
   "execution_count": null,
   "id": "e8e2a2f4",
   "metadata": {},
   "outputs": [],
   "source": [
    "image_element = mars_hemispheres_image_soup.select_one(\"img.headerimage.fade-in\")\n",
    "print(image_element[\"src\"])"
   ]
  },
  {
   "cell_type": "code",
   "execution_count": 29,
   "id": "32209536",
   "metadata": {},
   "outputs": [],
   "source": [
    "browser.quit()"
   ]
  },
  {
   "cell_type": "code",
   "execution_count": null,
   "id": "2115e3d3",
   "metadata": {},
   "outputs": [],
   "source": []
  }
 ],
 "metadata": {
  "kernelspec": {
   "display_name": "Python 3",
   "language": "python",
   "name": "python3"
  },
  "language_info": {
   "codemirror_mode": {
    "name": "ipython",
    "version": 3
   },
   "file_extension": ".py",
   "mimetype": "text/x-python",
   "name": "python",
   "nbconvert_exporter": "python",
   "pygments_lexer": "ipython3",
   "version": "3.8.8"
  }
 },
 "nbformat": 4,
 "nbformat_minor": 5
}
